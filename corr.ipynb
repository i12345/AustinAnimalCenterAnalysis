{
 "cells": [
  {
   "cell_type": "code",
   "execution_count": null,
   "id": "3d4216d2",
   "metadata": {},
   "outputs": [],
   "source": [
    "import matplotlib\n",
    "import matplotlib.pyplot as plt\n",
    "import numpy as np\n",
    "import pandas as pd\n",
    "import seaborn as sns\n",
    "import statsmodels.api as sm\n",
    "import scipy.stats as st\n",
    "\n",
    "%matplotlib inline"
   ]
  },
  {
   "cell_type": "code",
   "execution_count": null,
   "id": "7e3c3ad1",
   "metadata": {},
   "outputs": [],
   "source": [
    "df_out = pd.read_pickle('df_out.pkl')\n",
    "df_breeds = pd.read_pickle('df_breeds.pkl')\n",
    "df_out_with_breeds_info = pd.read_pickle('df_out_with_breeds_info.pkl')\n",
    "df_breeds_with_info = pd.read_pickle('df_breeds_with_info.pkl')\n",
    "df_out.info()\n",
    "df_out.head()"
   ]
  },
  {
   "cell_type": "code",
   "execution_count": null,
   "id": "c68a6086",
   "metadata": {},
   "outputs": [],
   "source": [
    "df_breeds_with_info.head()"
   ]
  },
  {
   "attachments": {},
   "cell_type": "markdown",
   "id": "c5da78c8",
   "metadata": {},
   "source": [
    "# Analysis by breed"
   ]
  },
  {
   "attachments": {},
   "cell_type": "markdown",
   "id": "a977d3d9",
   "metadata": {},
   "source": [
    "There isn't much correlation appearing yet"
   ]
  },
  {
   "cell_type": "code",
   "execution_count": null,
   "id": "5ee57e4b",
   "metadata": {},
   "outputs": [],
   "source": [
    "df_breeds_with_info_corr = df_breeds_with_info.corr()\n",
    "\n",
    "plt.figure(num=None, figsize=(12, 10), dpi=96, facecolor='w', edgecolor='k')\n",
    "sns.heatmap(data=df_breeds_with_info_corr.abs())\n",
    "\n",
    "def score(df, var1, var2):\n",
    "    print(f'Corr({var1}, {var2}) ≈ {df[var1][var2]}')\n",
    "\n",
    "score(df_breeds_with_info_corr, 'Adopted', 'Color 0 B (mean)')\n",
    "score(df_breeds_with_info_corr, 'Adopted', 'Color 0 B (std dev)')\n",
    "score(df_breeds_with_info_corr, 'Adopted', 'Color 0 V (mean)')\n",
    "score(df_breeds_with_info_corr, 'Adopted', 'Color 0 V (std dev)')\n",
    "score(df_breeds_with_info_corr, 'Adopted', 'average height')\n",
    "score(df_breeds_with_info_corr, 'Adopted', 'height_low_inches')\n",
    "score(df_breeds_with_info_corr, 'Adopted', 'height_high_inches')\n",
    "score(df_breeds_with_info_corr, 'Adopted', 'Lifespan Low')"
   ]
  },
  {
   "cell_type": "code",
   "execution_count": null,
   "id": "9e4c4381",
   "metadata": {},
   "outputs": [],
   "source": [
    "sns.pairplot(data=df_breeds_with_info, x_vars=['Adopted'])"
   ]
  },
  {
   "attachments": {},
   "cell_type": "markdown",
   "id": "40fc5416",
   "metadata": {},
   "source": [
    "## Height ~ adopted?\n",
    "\n",
    "Is the average height of a breed correlated with likelihood of an animal from that breed being adopted? The Pearson correlation coefficient was Corr(Adopted, average height) ≈ 0.2286839421877296.\n",
    "\n",
    "This section analyzes this by breed and also by individual animal."
   ]
  },
  {
   "cell_type": "code",
   "execution_count": null,
   "id": "1596abaa",
   "metadata": {},
   "outputs": [],
   "source": [
    "# TODO 1: perform logistic regression on the individual animals in df_out_with_breeds_info\n",
    "# to regress average_height with Adopted\n"
   ]
  },
  {
   "cell_type": "code",
   "execution_count": null,
   "id": "3f82b8ef",
   "metadata": {},
   "outputs": [],
   "source": [
    "# TODO 2: make the \"Count\" column be the weight for the hexbin()\n",
    "# so that breeds with more animals weigh more heavily than breeds with few animals.\n",
    "\n",
    "df_breeds_with_info.plot.hexbin(x='average height', y='Adopted', gridsize=8)"
   ]
  },
  {
   "cell_type": "code",
   "execution_count": null,
   "id": "e0369c05",
   "metadata": {},
   "outputs": [],
   "source": [
    "# TODO 3: make the \"Count\" column be the weight for the points and regression here\n",
    "# TODO 4: include Y error bars for the uncertainty in the true value of Adopted for that breed\n",
    "# (see how the confidence interval was constructed in the color regression later)\n",
    "\n",
    "sns.jointplot(\n",
    "    x=df_breeds_with_info['average height'].astype(dtype=float),\n",
    "    y=df_breeds_with_info.Adopted.astype(dtype=float),\n",
    "    kind='reg')"
   ]
  },
  {
   "attachments": {},
   "cell_type": "markdown",
   "id": "eaaf6363",
   "metadata": {},
   "source": [
    "# Analysis by individuals"
   ]
  },
  {
   "attachments": {},
   "cell_type": "markdown",
   "id": "e92d9d08",
   "metadata": {},
   "source": [
    "## Color\n",
    "\n",
    "(results)"
   ]
  },
  {
   "cell_type": "code",
   "execution_count": null,
   "id": "7fdd91d1",
   "metadata": {},
   "outputs": [],
   "source": [
    "print('Colors')\n",
    "print(df_out_with_breeds_info['Color 0'].unique())\n",
    "print(df_out_with_breeds_info['Color 1'].unique())"
   ]
  },
  {
   "cell_type": "code",
   "execution_count": null,
   "metadata": {},
   "outputs": [],
   "source": [
    "df_out_colors_1 = df_out.loc[(df_out['Color 0'].notna() == True) & (df_out['Color 1'].notna() == False)]\n",
    "df_out_colors_2 = df_out.loc[(df_out['Color 0'].notna() == True) & (df_out['Color 1'].notna() == True)]"
   ]
  },
  {
   "cell_type": "code",
   "execution_count": null,
   "id": "38aba5f4",
   "metadata": {},
   "outputs": [],
   "source": [
    "def bigCorr_bernoulli(df, independent, dependent):\n",
    "    numerator = (\n",
    "        df[[independent, dependent]].groupby(independent).value_counts()\n",
    "    )\n",
    "    \n",
    "    denominator = (\n",
    "        df[[independent]].groupby(independent).value_counts()\n",
    "    )\n",
    "    \n",
    "    return (numerator.div(denominator))[:,True]"
   ]
  },
  {
   "cell_type": "code",
   "execution_count": null,
   "id": "3e95e010",
   "metadata": {},
   "outputs": [],
   "source": [
    "def bigCorr_bernoulli_custom_colors_2():\n",
    "    df_out_colors_2_color_0 = df_out_colors_2[['Color 0', 'Adopted']].rename(columns={'Color 0': 'Color'})\n",
    "    df_out_colors_2_color_1 = df_out_colors_2[['Color 1', 'Adopted']].rename(columns={'Color 1': 'Color'})\n",
    "    \n",
    "    numerator = (\n",
    "        df_out_colors_2_color_0.groupby('Color').value_counts().add(\n",
    "            df_out_colors_2_color_1.groupby('Color').value_counts(),\n",
    "            fill_value=0\n",
    "        )\n",
    "    )\n",
    "    \n",
    "    denominator = (\n",
    "        df_out_colors_2_color_0[['Color']].groupby('Color').value_counts().add(\n",
    "            df_out_colors_2_color_1[['Color']].groupby('Color').value_counts(),\n",
    "            fill_value=0\n",
    "        )\n",
    "    )\n",
    "    \n",
    "    return (numerator.div(denominator))[:,True]\n",
    "\n",
    "def bigCorr_bernoulli_custom_colors_1_or_2():\n",
    "    df_out_colors_1_color_0 = df_out_colors_1[['Color 0', 'Adopted']].rename(columns={'Color 0': 'Color'})\n",
    "    df_out_colors_2_color_0 = df_out_colors_2[['Color 0', 'Adopted']].rename(columns={'Color 0': 'Color'})\n",
    "    df_out_colors_2_color_1 = df_out_colors_2[['Color 1', 'Adopted']].rename(columns={'Color 1': 'Color'})\n",
    "    \n",
    "    numerator = (\n",
    "        df_out_colors_1_color_0.groupby('Color').value_counts().add(\n",
    "            df_out_colors_2_color_0.groupby('Color').value_counts().add(\n",
    "                df_out_colors_2_color_1.groupby('Color').value_counts(),\n",
    "                fill_value=0\n",
    "            ),\n",
    "            fill_value=0\n",
    "        )\n",
    "    )\n",
    "    \n",
    "    denominator = (\n",
    "        df_out_colors_1_color_0[['Color']].groupby('Color').value_counts().add(\n",
    "            df_out_colors_2_color_0[['Color']].groupby('Color').value_counts().add(\n",
    "                df_out_colors_2_color_1[['Color']].groupby('Color').value_counts(),\n",
    "                fill_value=0\n",
    "            ),\n",
    "            fill_value=0\n",
    "        )\n",
    "    )\n",
    "    \n",
    "    return (numerator.div(denominator))[:,True]"
   ]
  },
  {
   "cell_type": "code",
   "execution_count": null,
   "id": "c126f913",
   "metadata": {},
   "outputs": [],
   "source": [
    "# This is copied from prep.ipynb\n",
    "\n",
    "from math import pi\n",
    "\n",
    "# colors.csv was compiled from these wikipedia articles\n",
    "# https://en.wikipedia.org/wiki/List_of_colors:_A–F\n",
    "# https://en.wikipedia.org/wiki/List_of_colors:_G%E2%80%93M\n",
    "# https://en.wikipedia.org/wiki/List_of_colors:_N%E2%80%93Z\n",
    "# Then the \"—\" character was replaced with \"0\"\n",
    "df_colors = pd.read_csv('colors.csv')\n",
    "df_colors = df_colors.convert_dtypes(infer_objects=True)\n",
    "df_colors['Name'] = df_colors['Name'].str.lower()\n",
    "df_colors['Red (RGB)'] = pd.to_numeric(df_colors['Red (RGB)'].str.replace('%', '')).div(100)\n",
    "df_colors['Green (RGB)'] = pd.to_numeric(df_colors['Green (RGB)'].str.replace('%', '')).div(100)\n",
    "df_colors['Blue (RGB)'] = pd.to_numeric(df_colors['Blue (RGB)'].str.replace('%', '')).div(100)\n",
    "df_colors['Hue (HSL/HSV)'] = pd.to_numeric(df_colors['Hue (HSL/HSV)'].str.replace('°', '')).div(360)\n",
    "df_colors['Satur. (HSL)'] = pd.to_numeric(df_colors['Satur. (HSL)'].str.replace('%', '')).div(100)\n",
    "df_colors['Light (HSL)'] = pd.to_numeric(df_colors['Light (HSL)'].str.replace('%', '')).div(100)\n",
    "df_colors['Satur. (HSV)'] = pd.to_numeric(df_colors['Satur. (HSV)'].str.replace('%', '')).div(100)\n",
    "df_colors['Value (HSV)'] = pd.to_numeric(df_colors['Value (HSV)'].str.replace('%', '')).div(100)\n",
    "df_colors.head()\n",
    "\n",
    "def colorInfo(color):\n",
    "    color = color.lower()\n",
    "    words = [color] if color.count(' ') == 0 else [color] + color.split(' ')\n",
    "    for word in words:\n",
    "        try:\n",
    "            items = df_colors.loc[df_colors.Name == word]\n",
    "            if len(items) > 0:\n",
    "                return items\n",
    "        except:\n",
    "            continue\n",
    "    \n",
    "    for word in words:\n",
    "        try:\n",
    "            items = df_colors.loc[df_colors.Name.str.contains(word)]\n",
    "            if len(items) > 0:\n",
    "                return items\n",
    "        except:\n",
    "            continue\n",
    "        \n",
    "    return None\n",
    "\n",
    "def rgb(color):\n",
    "    info = colorInfo(color)\n",
    "    if info is None: return (None, None, None)\n",
    "    r = info['Red (RGB)'].values[0]\n",
    "    g = info['Green (RGB)'].values[0]\n",
    "    b = info['Blue (RGB)'].values[0]\n",
    "    return (r, g, b)"
   ]
  },
  {
   "cell_type": "code",
   "execution_count": null,
   "id": "bf16fa93",
   "metadata": {},
   "outputs": [],
   "source": [
    "def chartColorAdoptionLikelihood(df_colors, color_relation):\n",
    "    \n",
    "    # Wilson confidence interval\n",
    "    # https://en.wikipedia.org/wiki/Binomial_proportion_confidence_interval\n",
    "    \n",
    "    alpha = 0.01\n",
    "    z = st.norm.ppf(1 - (alpha / 2))\n",
    "    n = df_colors.Count\n",
    "    p = df_colors.Adopted\n",
    "    p_center = (1 / (1 + ((z ** 2) / n))) * (p + ((z ** 2) / (2 * n)))\n",
    "    p_halfextent = (z / (1 + ((z ** 2) / n))) * ((( (p * (1 - p)) / (n) ) + ((z ** 2) / (4 * (n ** 2)))) ** (1/2))\n",
    "    p_low = p_center - p_halfextent\n",
    "    p_high = p_center - p_halfextent\n",
    "    \n",
    "    colors = [rgb(color) for color in df_colors.index]\n",
    "    colors = [color if color[0] != None else '0.3' for color in colors]\n",
    "    \n",
    "    plt.figure(num=None, figsize=(5, 12), dpi=96, facecolor='w', edgecolor='k')\n",
    "    plt.title(f'Probability of an animal with this {color_relation} color being adopted ({(1 - alpha):%} confidence)')\n",
    "    ax = df_colors.Adopted.plot.barh(x='Color', xerr=[p_low, p_high], ecolor='0.5', color=colors)\n",
    "    ax.set_xlim(0, 1)\n",
    "    plt.show()\n",
    "    print(f'{len(df_colors)} colors')\n",
    "    print()\n",
    "\n",
    "def colors_single():\n",
    "    colors_adopted = bigCorr_bernoulli(df_out_colors_1, 'Color 0', 'Adopted')\n",
    "    colors_count = df_out_colors_1['Color 0'].value_counts()\n",
    "    df_colors = pd.DataFrame(index=colors_count.index)\n",
    "    df_colors = df_colors.assign(Color=colors_count.index, Count=colors_count, Adopted=colors_adopted)\n",
    "    df_colors.sort_values(by='Adopted', ascending=False, inplace=True)\n",
    "    chartColorAdoptionLikelihood(df_colors, 'single')\n",
    "    \n",
    "def colors_mixed():\n",
    "    colors_adopted = bigCorr_bernoulli_custom_colors_2()\n",
    "    colors_count = df_out_colors_2['Color 0'].value_counts().add(df_out_colors_2['Color 1'].value_counts(), fill_value=0)\n",
    "    df_colors = pd.DataFrame(index=colors_count.index)\n",
    "    df_colors = df_colors.assign(Color=colors_count.index, Count=colors_count, Adopted=colors_adopted)\n",
    "    df_colors.sort_values(by='Adopted', ascending=False, inplace=True)\n",
    "    chartColorAdoptionLikelihood(df_colors, 'mixed')\n",
    "    \n",
    "def colors_singleOrMixed():\n",
    "    colors_adopted = bigCorr_bernoulli_custom_colors_1_or_2()\n",
    "    colors_count = df_out_colors_1['Color 0'].value_counts().add(df_out_colors_2['Color 0'].value_counts(), fill_value=0).add(df_out_colors_2['Color 1'].value_counts(), fill_value=0)\n",
    "    df_colors = pd.DataFrame(index=colors_count.index)\n",
    "    df_colors = df_colors.assign(Color=colors_count.index, Count=colors_count, Adopted=colors_adopted)\n",
    "    df_colors.sort_values(by='Adopted', ascending=False, inplace=True)\n",
    "    chartColorAdoptionLikelihood(df_colors, 'single or mixed')\n",
    "\n",
    "colors_single()\n",
    "colors_mixed()\n",
    "colors_singleOrMixed()\n",
    "\n",
    "# TODO 5: make an outcome chart like this for mixed and solid+mixed\n",
    "# like the bar charts were made for just the Adopted percentage earlier\n",
    "df_colors_outcomes = df_out_colors_1[['Outcome Type', 'Color 0']]\n",
    "plt.figure(num=None, figsize=(5, 12), dpi=96, facecolor='w', edgecolor='k')\n",
    "plt.title('Probability of an animal with this solid color having a certain outcome')\n",
    "sns.histplot(\n",
    "    data=df_colors_outcomes,\n",
    "    y='Color 0',\n",
    "    hue='Outcome Type',\n",
    "    multiple='fill',\n",
    ")"
   ]
  },
  {
   "attachments": {},
   "cell_type": "markdown",
   "id": "1230ae70",
   "metadata": {},
   "source": [
    "## Sex"
   ]
  },
  {
   "cell_type": "code",
   "execution_count": null,
   "id": "efca610d",
   "metadata": {},
   "outputs": [],
   "source": [
    "# TODO 6: regress sex against adoption likelihood\n",
    "# Please make 3 bar charts:\n",
    "#  - \"Sex upon Outcome\" (neutered male, spayed female, intact male, intact female)\n",
    "#  - male or female\n",
    "#  - neutered/spayed or intact\n",
    "# Also please construct the 95% confidence interval and make it the error bars\n",
    "# see the earlier cell in the section on color for an example of how to do this"
   ]
  },
  {
   "attachments": {},
   "cell_type": "markdown",
   "id": "cb03352a",
   "metadata": {},
   "source": [
    "## Breed characteristics\n",
    "\n",
    "This analysis considers individual animals and looks for correlations between characteristics of their breed and their outcome.\n",
    "\n",
    "It looks like the animals belonging to a breed with an average height around 20-25 \\(inches?\\) are more likely to be adopted than others, and animals between 5-12 inches are less likely than others to be adopted.\n",
    "\n",
    "**TODO 7:** interpret the other graphs. Why are the different lifespan variables distributed the way they are, and why are they distributed differently compared to each other?"
   ]
  },
  {
   "cell_type": "code",
   "execution_count": null,
   "id": "001044c5",
   "metadata": {},
   "outputs": [],
   "source": [
    "df_out_1 = df_out.assign(Adopted=df_out.Adopted.fillna(False))\n",
    "df_out_with_breeds_info_1 = df_out_with_breeds_info.assign(Adopted=df_out.Adopted.fillna(False))\n",
    "\n",
    "def correlo_histogram(df, independent, dependent, binwidth):\n",
    "    print(f'{independent} ~ {dependent}')\n",
    "    # TODO 8: add error bars when the dependent variable is \"Adopted\"\n",
    "    # (see how the confidence interval was constructed in the previous cell\n",
    "    # for regression by color)\n",
    "    \n",
    "    sns.histplot(data=df,\n",
    "             x=independent,\n",
    "             hue=dependent,\n",
    "             multiple='fill',\n",
    "             binwidth=binwidth)\n",
    "    plt.show()\n",
    "\n",
    "independent_vars_breeds_info = [\n",
    "    ['average height', 2],\n",
    "    ['Est. lifespan remaining', 1],\n",
    "    ['average lifespan', 1],\n",
    "    ['Lifespan Low', 1],\n",
    "    ['Lifespan High', 1]\n",
    "]\n",
    "\n",
    "independent_vars_individuals = [\n",
    "    ['Age upon Outcome (years)', 1],\n",
    "    ['Color 0 H', 0.1],\n",
    "    ['Color 0 S', 0.1],\n",
    "    ['Color 0 V', 0.1]\n",
    "]\n",
    "\n",
    "for [independent, binwidth] in independent_vars_breeds_info:\n",
    "    for dependent in ['Adopted', 'Outcome Type']:\n",
    "        correlo_histogram(df_out_with_breeds_info_1, independent, dependent, binwidth)\n",
    "\n",
    "for [independent, binwidth] in independent_vars_individuals:\n",
    "    for dependent in ['Adopted', 'Outcome Type']:\n",
    "        correlo_histogram(df_out_1, independent, dependent, binwidth)"
   ]
  }
 ],
 "metadata": {
  "kernelspec": {
   "display_name": "Python 3 (ipykernel)",
   "language": "python",
   "name": "python3"
  },
  "language_info": {
   "codemirror_mode": {
    "name": "ipython",
    "version": 3
   },
   "file_extension": ".py",
   "mimetype": "text/x-python",
   "name": "python",
   "nbconvert_exporter": "python",
   "pygments_lexer": "ipython3",
   "version": "3.10.6"
  }
 },
 "nbformat": 4,
 "nbformat_minor": 5
}
